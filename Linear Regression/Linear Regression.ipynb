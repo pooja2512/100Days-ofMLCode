{
 "cells": [
  {
   "cell_type": "code",
   "execution_count": 1,
   "metadata": {},
   "outputs": [],
   "source": [
    "#Import Necessary libraries\n",
    "import pandas as pd\n",
    "import numpy as np\n",
    "% matplotlib inline\n",
    "from matplotlib import pyplot as plt"
   ]
  },
  {
   "cell_type": "code",
   "execution_count": 2,
   "metadata": {},
   "outputs": [
    {
     "name": "stdout",
     "output_type": "stream",
     "text": [
      "Number of observation: (97, 2)\n"
     ]
    },
    {
     "data": {
      "text/html": [
       "<div>\n",
       "<style scoped>\n",
       "    .dataframe tbody tr th:only-of-type {\n",
       "        vertical-align: middle;\n",
       "    }\n",
       "\n",
       "    .dataframe tbody tr th {\n",
       "        vertical-align: top;\n",
       "    }\n",
       "\n",
       "    .dataframe thead th {\n",
       "        text-align: right;\n",
       "    }\n",
       "</style>\n",
       "<table border=\"1\" class=\"dataframe\">\n",
       "  <thead>\n",
       "    <tr style=\"text-align: right;\">\n",
       "      <th></th>\n",
       "      <th>population of a city</th>\n",
       "      <th>profit of a food truck</th>\n",
       "    </tr>\n",
       "  </thead>\n",
       "  <tbody>\n",
       "    <tr>\n",
       "      <th>0</th>\n",
       "      <td>6.1101</td>\n",
       "      <td>17.5920</td>\n",
       "    </tr>\n",
       "    <tr>\n",
       "      <th>1</th>\n",
       "      <td>5.5277</td>\n",
       "      <td>9.1302</td>\n",
       "    </tr>\n",
       "    <tr>\n",
       "      <th>2</th>\n",
       "      <td>8.5186</td>\n",
       "      <td>13.6620</td>\n",
       "    </tr>\n",
       "    <tr>\n",
       "      <th>3</th>\n",
       "      <td>7.0032</td>\n",
       "      <td>11.8540</td>\n",
       "    </tr>\n",
       "    <tr>\n",
       "      <th>4</th>\n",
       "      <td>5.8598</td>\n",
       "      <td>6.8233</td>\n",
       "    </tr>\n",
       "  </tbody>\n",
       "</table>\n",
       "</div>"
      ],
      "text/plain": [
       "   population of a city  profit of a food truck\n",
       "0                6.1101                 17.5920\n",
       "1                5.5277                  9.1302\n",
       "2                8.5186                 13.6620\n",
       "3                7.0032                 11.8540\n",
       "4                5.8598                  6.8233"
      ]
     },
     "execution_count": 2,
     "metadata": {},
     "output_type": "execute_result"
    }
   ],
   "source": [
    "df = pd.read_csv('1.txt')\n",
    "print(f\"Number of observation: {df.shape}\")\n",
    "df.head()"
   ]
  },
  {
   "cell_type": "code",
   "execution_count": 6,
   "metadata": {},
   "outputs": [],
   "source": [
    "X = np.array(df['population of a city'])\n",
    "y = np.array(df['profit of a food truck'])"
   ]
  },
  {
   "cell_type": "code",
   "execution_count": 54,
   "metadata": {},
   "outputs": [],
   "source": [
    "def mse_calc(X,y,intercept,slope):\n",
    "    pred = []\n",
    "    tot_error = 0\n",
    "    for i in range(len(X)):\n",
    "        # prediction y_pred = b0 + b1 * x\n",
    "        pred.append(intercept + (slope * X[i]))\n",
    "        # mean squared error (y - y_pred)**2 / len(X)\n",
    "        tot_error += (y[i] - ((slope*X[i]) + intercept)) ** 2\n",
    "        \n",
    "    return tot_error/len(X),pred"
   ]
  },
  {
   "cell_type": "code",
   "execution_count": 55,
   "metadata": {},
   "outputs": [],
   "source": [
    "def gradient_descent(iterations,l_rate,X,y,s_slope,s_intercept):\n",
    "    for i in range(iterations):\n",
    "    #perform gradient descent for given number of iterations\n",
    "        int_intercept = 0\n",
    "        int_slope = 0\n",
    "        n_pt = len(X)\n",
    "        \n",
    "        for i in range(len(X)):\n",
    "            #update derivative of intercept\n",
    "            int_intercept += - (2/n_pt) * (y[i] - ((s_slope * X[i]) + s_intercept))\n",
    "            #update derivative of slope\n",
    "            int_slope += - (2/n_pt) * X[i] * (y[i] - ((s_slope * X[i]) + s_intercept))\n",
    "        #update intercept and slope\n",
    "        final_slope = s_slope - (l_rate * int_slope)\n",
    "        final_intercept = s_intercept - (l_rate * int_intercept)\n",
    "        s_slope = final_slope\n",
    "        s_intercept = final_intercept\n",
    "    return s_slope,s_intercept\n",
    "            "
   ]
  },
  {
   "cell_type": "code",
   "execution_count": 61,
   "metadata": {},
   "outputs": [
    {
     "name": "stdout",
     "output_type": "stream",
     "text": [
      "Gradient Slope: 0.8077926520338518\n",
      "Gradient Intercept: -0.06104372530053788\n",
      "Error: 11.631450024036447\n"
     ]
    }
   ],
   "source": [
    "iter_val = 1000\n",
    "start_slope = 0\n",
    "start_intercept = 0\n",
    "learning_rate = 0.0001\n",
    "grad_slope,grad_intercept = gradient_descent(iter_val,learning_rate,X,y,start_slope,start_intercept)\n",
    "final_e_val,prediction = mse_calc(X,y,grad_intercept,grad_slope)\n",
    "print(\"Gradient Slope:\", grad_slope)\n",
    "print(\"Gradient Intercept:\",grad_intercept)\n",
    "print(\"Error:\",final_e_val)"
   ]
  },
  {
   "cell_type": "code",
   "execution_count": 62,
   "metadata": {},
   "outputs": [
    {
     "data": {
      "image/png": "[encoded data removed]",
      "text/plain": [
       "<Figure size 432x288 with 1 Axes>"
      ]
     },
     "metadata": {},
     "output_type": "display_data"
    }
   ],
   "source": [
    "plt.scatter(X,y);\n",
    "plt.plot(X,prediction,c= 'r');\n",
    "plt.xlabel('population of a city');\n",
    "plt.ylabel('Profit of a food truck');"
   ]
  }
 ],
 "metadata": {
  "kernelspec": {
   "display_name": "Python 3",
   "language": "python",
   "name": "python3"
  },
  "language_info": {
   "codemirror_mode": {
    "name": "ipython",
    "version": 3
   },
   "file_extension": ".py",
   "mimetype": "text/x-python",
   "name": "python",
   "nbconvert_exporter": "python",
   "pygments_lexer": "ipython3",
   "version": "3.6.4"
  }
 },
 "nbformat": 4,
 "nbformat_minor": 2
}
