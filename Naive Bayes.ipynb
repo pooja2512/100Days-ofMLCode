{
 "cells": [
  {
   "cell_type": "code",
   "execution_count": 141,
   "metadata": {},
   "outputs": [],
   "source": [
    "# feature0 ,feature1,feature2,feature3,class_label\n",
    "dataset = [[1, 0, 1, 1, 0],\n",
    "           [1, 1, 0, 0, 1],\n",
    "           [1, 0, 2, 1, 1],\n",
    "           [0, 1, 1, 1, 1],\n",
    "           [0, 0, 0, 0, 0],\n",
    "           [0, 1, 2, 1, 1],\n",
    "           [0, 1, 2, 0, 0],\n",
    "           [1, 1, 1, 1, 1]]\n",
    "\n",
    "test_data = [1, 0, 0, 0]"
   ]
  },
  {
   "cell_type": "code",
   "execution_count": 142,
   "metadata": {},
   "outputs": [],
   "source": [
    "#prior_probability: Class label count / len of the dataset\n",
    "def prior_probability(dataset):\n",
    "    labels = list(set(row[-1] for row in dataset))\n",
    "    prior_prob = {}\n",
    "    for label in labels:\n",
    "        prob = [row[-1] for row in dataset].count(label) / float(len(dataset))\n",
    "        prior_prob[label] = prob\n",
    "    return prior_prob"
   ]
  },
  {
   "cell_type": "code",
   "execution_count": 143,
   "metadata": {},
   "outputs": [],
   "source": [
    "def likelihood(dataset,test_data,class_value):\n",
    "    cls_count = [row[-1] for row in dataset].count(class_value)\n",
    "    feature_prob = 1.0\n",
    "    for feature in range(len(test_data)):\n",
    "        feature_count = 0\n",
    "        for row in dataset:\n",
    "            if test_data[feature] == row[feature]:\n",
    "                if row[-1]  == class_value:\n",
    "                    feature_count += 1\n",
    "        feature_prob *= (feature_count / cls_count) \n",
    "    return feature_prob  "
   ]
  },
  {
   "cell_type": "code",
   "execution_count": 144,
   "metadata": {},
   "outputs": [],
   "source": [
    "def predict(naive_bayes_results):\n",
    "    prob = 0.0   \n",
    "    answer = None\n",
    "    for class_val in naive_bayes_results:\n",
    "        if naive_bayes_results[class_val] > prob:\n",
    "            prob = naive_bayes_results[class_val]\n",
    "            answer = class_val\n",
    "    return answer"
   ]
  },
  {
   "cell_type": "code",
   "execution_count": 145,
   "metadata": {},
   "outputs": [],
   "source": [
    "#main Function\n",
    "def naive_bayes(dataset,test_data):\n",
    "    prior_prob_vals = prior_probability(dataset)\n",
    "    results = {}    \n",
    "    for class_val in prior_prob_vals:\n",
    "        results[class_val] = (likelihood(dataset,test_data,class_val)) * prior_prob_vals[class_val]\n",
    "    print(\"Results:\",results)\n",
    "    return predict(results)\n",
    "\n"
   ]
  },
  {
   "cell_type": "code",
   "execution_count": 148,
   "metadata": {},
   "outputs": [
    {
     "name": "stdout",
     "output_type": "stream",
     "text": [
      "Test Data [1, 0, 0, 0]\n",
      "Results: {0: 0.018518518518518517, 1: 0.003}\n",
      "The test data is going to be in class: 0\n"
     ]
    }
   ],
   "source": [
    "print('Test Data',test_data)\n",
    "print(\"The test data is going to be in class:\", naive_bayes(dataset, test_data))\n"
   ]
  },
  {
   "cell_type": "code",
   "execution_count": null,
   "metadata": {},
   "outputs": [],
   "source": []
  }
 ],
 "metadata": {
  "kernelspec": {
   "display_name": "Python 3",
   "language": "python",
   "name": "python3"
  },
  "language_info": {
   "codemirror_mode": {
    "name": "ipython",
    "version": 3
   },
   "file_extension": ".py",
   "mimetype": "text/x-python",
   "name": "python",
   "nbconvert_exporter": "python",
   "pygments_lexer": "ipython3",
   "version": "3.6.4"
  }
 },
 "nbformat": 4,
 "nbformat_minor": 2
}
